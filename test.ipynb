{
 "cells": [
  {
   "cell_type": "code",
   "execution_count": 29,
   "metadata": {},
   "outputs": [],
   "source": [
    "import matplotlib.pyplot as plt\n",
    "import numpy as np\n",
    "from utils.alphabets import alphabets\n",
    "\n",
    "en_alph = alphabets['EN']\n",
    "ru_alph = alphabets['RU']\n",
    "\n",
    "class FrequencyAnalyser:\n",
    "    def __init__(self):\n",
    "        pass\n",
    "\n",
    "    @staticmethod\n",
    "    def analyse_frequency(text: str):\n",
    "        text = text.upper()\n",
    "        en_flag = 0\n",
    "        ru_flag = 0\n",
    "        chars = dict()\n",
    "        for _ in text:\n",
    "            if _ in en_alph:\n",
    "                if not _ in chars.keys():\n",
    "                    chars[_] = 1\n",
    "                else:\n",
    "                    chars[_] += 1\n",
    "                en_flag = 1\n",
    "            if _ in ru_alph:\n",
    "                if not _ in chars.keys():\n",
    "                    chars[_] = 1\n",
    "                else:\n",
    "                    chars[_] += 1\n",
    "                ru_flag = 1\n",
    "        if not (en_flag ^ ru_flag):\n",
    "            raise SyntaxError\n",
    "        \n",
    "        chars_count = sum(chars.values())\n",
    "        print(chars_count)\n",
    "        plt.bar(chars.keys(), np.array(list(chars.values()))/chars_count)"
   ]
  },
  {
   "cell_type": "code",
   "execution_count": 30,
   "metadata": {},
   "outputs": [],
   "source": [
    "a = FrequencyAnalyser()"
   ]
  },
  {
   "cell_type": "code",
   "execution_count": 31,
   "metadata": {},
   "outputs": [
    {
     "name": "stdout",
     "output_type": "stream",
     "text": [
      "6\n"
     ]
    },
    {
     "data": {
      "image/png": "[encoded data removed]",
      "text/plain": [
       "<Figure size 640x480 with 1 Axes>"
      ]
     },
     "metadata": {},
     "output_type": "display_data"
    }
   ],
   "source": [
    "a.analyse_frequency('aadass')"
   ]
  },
  {
   "cell_type": "code",
   "execution_count": null,
   "metadata": {},
   "outputs": [],
   "source": []
  }
 ],
 "metadata": {
  "kernelspec": {
   "display_name": "venv",
   "language": "python",
   "name": "python3"
  },
  "language_info": {
   "codemirror_mode": {
    "name": "ipython",
    "version": 3
   },
   "file_extension": ".py",
   "mimetype": "text/x-python",
   "name": "python",
   "nbconvert_exporter": "python",
   "pygments_lexer": "ipython3",
   "version": "3.13.2"
  }
 },
 "nbformat": 4,
 "nbformat_minor": 2
}
